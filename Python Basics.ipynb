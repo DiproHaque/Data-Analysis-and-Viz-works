{
 "cells": [
  {
   "cell_type": "markdown",
   "id": "e686da6d",
   "metadata": {},
   "source": [
    "## Programming Basics in Python"
   ]
  },
  {
   "cell_type": "code",
   "execution_count": 1,
   "id": "a8d22bad",
   "metadata": {},
   "outputs": [
    {
     "name": "stdout",
     "output_type": "stream",
     "text": [
      "a is 10\n"
     ]
    }
   ],
   "source": [
    "a=10\n",
    "print(f'a is {a}')"
   ]
  },
  {
   "cell_type": "code",
   "execution_count": 10,
   "id": "6432003b",
   "metadata": {},
   "outputs": [
    {
     "name": "stdout",
     "output_type": "stream",
     "text": [
      "the variable a is 5\n"
     ]
    }
   ],
   "source": [
    "a=5\n",
    "b=8\n",
    "if a==5:\n",
    "    print(f'the variable a is {a}')\n"
   ]
  },
  {
   "cell_type": "code",
   "execution_count": 11,
   "id": "d2c24f4c",
   "metadata": {},
   "outputs": [
    {
     "name": "stdout",
     "output_type": "stream",
     "text": [
      "test: 10\n",
      "test: 9\n",
      "test: 8\n",
      "test: 7\n",
      "test: 6\n",
      "test: 5\n",
      "test: 4\n",
      "test: 3\n",
      "test: 2\n"
     ]
    }
   ],
   "source": [
    "for i in range(10,1,-1):\n",
    "    print('test:',i)"
   ]
  },
  {
   "cell_type": "markdown",
   "id": "6d527683",
   "metadata": {},
   "source": [
    "### List,Tuples,Dictionaries,Sets"
   ]
  },
  {
   "cell_type": "code",
   "execution_count": null,
   "id": "8782db01",
   "metadata": {},
   "outputs": [],
   "source": []
  }
 ],
 "metadata": {
  "kernelspec": {
   "display_name": "Python [conda env:cvpr] *",
   "language": "python",
   "name": "conda-env-cvpr-py"
  },
  "language_info": {
   "codemirror_mode": {
    "name": "ipython",
    "version": 3
   },
   "file_extension": ".py",
   "mimetype": "text/x-python",
   "name": "python",
   "nbconvert_exporter": "python",
   "pygments_lexer": "ipython3",
   "version": "3.8.10"
  }
 },
 "nbformat": 4,
 "nbformat_minor": 5
}
