{
 "cells": [
  {
   "cell_type": "code",
   "execution_count": 7,
   "id": "6d38c9a4",
   "metadata": {},
   "outputs": [
    {
     "name": "stdout",
     "output_type": "stream",
     "text": [
      "{'spreadsheetId': '1Krnqy6py1VvsdlkVrizodXg3iujvmSpxL47kLSjuPW4', 'updatedRange': 'Sheet2!A1:C3', 'updatedRows': 3, 'updatedColumns': 3, 'updatedCells': 9}\n"
     ]
    }
   ],
   "source": [
    "from googleapiclient.discovery import build\n",
    "from google.oauth2 import service_account\n",
    "\n",
    "SERVICE_ACCOUNT_FILE = r'C:\\Users\\User\\Documents\\Python Scripts\\Goggle_Sheets_Pythong\\keys.json'\n",
    "SCOPES = ['https://www.googleapis.com/auth/spreadsheets']\n",
    "\n",
    "creds = None\n",
    "creds = service_account.Credentials.from_service_account_file(\n",
    "        SERVICE_ACCOUNT_FILE, scopes=SCOPES)\n",
    "\n",
    "\n",
    "\n",
    "# The ID of a sample spreadsheet.\n",
    "SAMPLE_SPREADSHEET_ID = '1Krnqy6py1VvsdlkVrizodXg3iujvmSpxL47kLSjuPW4'\n",
    "\n",
    "service = build('sheets', 'v4', credentials=creds)\n",
    "\n",
    "# Call the Sheets API\n",
    "sheet = service.spreadsheets()\n",
    "result = sheet.values().get(spreadsheetId=SAMPLE_SPREADSHEET_ID,\n",
    "                                range=\"Sheet1!A1:P701\").execute()\n",
    "values = result.get('values', [])\n",
    "\n",
    "datex = [[\"red\",1,\"8/2/2020\"],[\"orange\",1009,\"6/3/2020\"],[\"purple\",20909,\"12/9/2020\"]] \n",
    "request = sheet.values().update(spreadsheetId=SAMPLE_SPREADSHEET_ID, range=\"Sheet2!A1\", valueInputOption=\"USER_ENTERED\",\n",
    "                                body={\"values\":datex}).execute()\n",
    "\n",
    "print(request)\n",
    "\n",
    "\n"
   ]
  },
  {
   "cell_type": "code",
   "execution_count": null,
   "id": "9705376b",
   "metadata": {},
   "outputs": [],
   "source": []
  }
 ],
 "metadata": {
  "kernelspec": {
   "display_name": "Python 3",
   "language": "python",
   "name": "python3"
  },
  "language_info": {
   "codemirror_mode": {
    "name": "ipython",
    "version": 3
   },
   "file_extension": ".py",
   "mimetype": "text/x-python",
   "name": "python",
   "nbconvert_exporter": "python",
   "pygments_lexer": "ipython3",
   "version": "3.8.8"
  }
 },
 "nbformat": 4,
 "nbformat_minor": 5
}
