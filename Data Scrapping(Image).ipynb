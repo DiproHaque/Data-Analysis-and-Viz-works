{
 "cells": [
  {
   "cell_type": "code",
   "execution_count": 1,
   "id": "3bb88593",
   "metadata": {},
   "outputs": [],
   "source": [
    "import requests\n",
    "from bs4 import BeautifulSoup\n",
    "import os "
   ]
  },
  {
   "cell_type": "code",
   "execution_count": 2,
   "id": "a0ebe495",
   "metadata": {},
   "outputs": [],
   "source": [
    "#url = 'https://www.booking.com/searchresults.en-us.html?aid=385205&label=FTUAirBnBAlt&sid=e4d39a92b7a4a593cdd964d1328cb4d5&city=-302053&nflt=sth%253D12'\n",
    "\n",
    "def imagedown(url, folder):\n",
    "    try:\n",
    "        os.mkdir(os.path.join(os.getcwd(),folder))\n",
    "    except:\n",
    "        pass\n",
    "    os.chdir(os.path.join(os.getcwd(),folder))\n",
    "    r = requests.get(url)\n",
    "\n",
    "    soup = BeautifulSoup(r.text, 'html.parser')\n",
    "\n",
    "    images = soup.find_all('img')\n",
    "\n",
    "    for image in images:\n",
    "        name = image['alt']\n",
    "        link = image['src']\n",
    "        print(name,link)\n",
    "        with open (name.replace(' ', '-').replace('/','') + '.jpg','wb') as f:\n",
    "            im = requests.get(link)\n",
    "            f.write(im.content)\n",
    "            print('Writing: ',name)\n"
   ]
  },
  {
   "cell_type": "code",
   "execution_count": null,
   "id": "a23d4c3a",
   "metadata": {},
   "outputs": [],
   "source": [
    "imagedown('https://www.booking.com/searchresults.en-us.html?aid=385205&label=FTUAirBnBAlt&sid=e4d39a92b7a4a593cdd964d1328cb4d5&city=-290029&nflt=sth%253D12','Egypt')"
   ]
  },
  {
   "cell_type": "code",
   "execution_count": 3,
   "id": "0da6b95a",
   "metadata": {},
   "outputs": [
    {
     "ename": "KeyError",
     "evalue": "'alt'",
     "output_type": "error",
     "traceback": [
      "\u001b[1;31m---------------------------------------------------------------------------\u001b[0m",
      "\u001b[1;31mKeyError\u001b[0m                                  Traceback (most recent call last)",
      "\u001b[1;32m<ipython-input-3-5d9bc2da099f>\u001b[0m in \u001b[0;36m<module>\u001b[1;34m\u001b[0m\n\u001b[1;32m----> 1\u001b[1;33m \u001b[0mimagedown\u001b[0m\u001b[1;33m(\u001b[0m\u001b[1;34m'https://kaboompics.com/gallery?search=laptop'\u001b[0m\u001b[1;33m,\u001b[0m\u001b[1;34m'laptop'\u001b[0m\u001b[1;33m)\u001b[0m\u001b[1;33m\u001b[0m\u001b[1;33m\u001b[0m\u001b[0m\n\u001b[0m",
      "\u001b[1;32m<ipython-input-2-2286a088b619>\u001b[0m in \u001b[0;36mimagedown\u001b[1;34m(url, folder)\u001b[0m\n\u001b[0;32m     14\u001b[0m \u001b[1;33m\u001b[0m\u001b[0m\n\u001b[0;32m     15\u001b[0m     \u001b[1;32mfor\u001b[0m \u001b[0mimage\u001b[0m \u001b[1;32min\u001b[0m \u001b[0mimages\u001b[0m\u001b[1;33m:\u001b[0m\u001b[1;33m\u001b[0m\u001b[1;33m\u001b[0m\u001b[0m\n\u001b[1;32m---> 16\u001b[1;33m         \u001b[0mname\u001b[0m \u001b[1;33m=\u001b[0m \u001b[0mimage\u001b[0m\u001b[1;33m[\u001b[0m\u001b[1;34m'alt'\u001b[0m\u001b[1;33m]\u001b[0m\u001b[1;33m\u001b[0m\u001b[1;33m\u001b[0m\u001b[0m\n\u001b[0m\u001b[0;32m     17\u001b[0m         \u001b[0mlink\u001b[0m \u001b[1;33m=\u001b[0m \u001b[0mimage\u001b[0m\u001b[1;33m[\u001b[0m\u001b[1;34m'src'\u001b[0m\u001b[1;33m]\u001b[0m\u001b[1;33m\u001b[0m\u001b[1;33m\u001b[0m\u001b[0m\n\u001b[0;32m     18\u001b[0m         \u001b[0mprint\u001b[0m\u001b[1;33m(\u001b[0m\u001b[0mname\u001b[0m\u001b[1;33m,\u001b[0m\u001b[0mlink\u001b[0m\u001b[1;33m)\u001b[0m\u001b[1;33m\u001b[0m\u001b[1;33m\u001b[0m\u001b[0m\n",
      "\u001b[1;32m~\\anaconda3\\lib\\site-packages\\bs4\\element.py\u001b[0m in \u001b[0;36m__getitem__\u001b[1;34m(self, key)\u001b[0m\n\u001b[0;32m   1404\u001b[0m         \"\"\"tag[key] returns the value of the 'key' attribute for the Tag,\n\u001b[0;32m   1405\u001b[0m         and throws an exception if it's not there.\"\"\"\n\u001b[1;32m-> 1406\u001b[1;33m         \u001b[1;32mreturn\u001b[0m \u001b[0mself\u001b[0m\u001b[1;33m.\u001b[0m\u001b[0mattrs\u001b[0m\u001b[1;33m[\u001b[0m\u001b[0mkey\u001b[0m\u001b[1;33m]\u001b[0m\u001b[1;33m\u001b[0m\u001b[1;33m\u001b[0m\u001b[0m\n\u001b[0m\u001b[0;32m   1407\u001b[0m \u001b[1;33m\u001b[0m\u001b[0m\n\u001b[0;32m   1408\u001b[0m     \u001b[1;32mdef\u001b[0m \u001b[0m__iter__\u001b[0m\u001b[1;33m(\u001b[0m\u001b[0mself\u001b[0m\u001b[1;33m)\u001b[0m\u001b[1;33m:\u001b[0m\u001b[1;33m\u001b[0m\u001b[1;33m\u001b[0m\u001b[0m\n",
      "\u001b[1;31mKeyError\u001b[0m: 'alt'"
     ]
    }
   ],
   "source": [
    "imagedown('https://kaboompics.com/gallery?search=laptop','laptop')"
   ]
  },
  {
   "cell_type": "code",
   "execution_count": null,
   "id": "75d17505",
   "metadata": {},
   "outputs": [],
   "source": []
  }
 ],
 "metadata": {
  "kernelspec": {
   "display_name": "Python 3",
   "language": "python",
   "name": "python3"
  },
  "language_info": {
   "codemirror_mode": {
    "name": "ipython",
    "version": 3
   },
   "file_extension": ".py",
   "mimetype": "text/x-python",
   "name": "python",
   "nbconvert_exporter": "python",
   "pygments_lexer": "ipython3",
   "version": "3.8.8"
  }
 },
 "nbformat": 4,
 "nbformat_minor": 5
}
